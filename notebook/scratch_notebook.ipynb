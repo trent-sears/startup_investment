{
 "cells": [
  {
   "cell_type": "code",
   "execution_count": 163,
   "metadata": {},
   "outputs": [],
   "source": [
    "import yfinance as yf\n",
    "import pandas as pd\n",
    "import numpy as np\n",
    "from datetime import datetime\n",
    "import matplotlib.pyplot as plt\n",
    "plt.rcParams.update({'font.size': 17})\n",
    "import folium\n",
    "import re\n",
    "from sklearn import preprocessing\n",
    "from sklearn.linear_model import LogisticRegression\n",
    "from sklearn.model_selection import KFold, train_test_split\n",
    "from sklearn.metrics import accuracy_score, precision_score, recall_score\n",
    "from sklearn.ensemble import RandomForestClassifier,AdaBoostRegressor\n",
    "from imblearn.over_sampling import SMOTE\n",
    "from sklearn.model_selection import GridSearchCV\n",
    "from sklearn.metrics import f1_score\n",
    "from sklearn.metrics import confusion_matrix\n",
    "\n",
    "class DataFrame(object):\n",
    "\n",
    "    def __init__(self,file_path):\n",
    "        \"\"\"Create df object\n",
    "        Parameters\n",
    "        ----------\n",
    "        file_path: takes in a file path to raw data\n",
    "        \"\"\"\n",
    "        self.file_path = file_path\n",
    "        \n",
    "    def clean(self):\n",
    "        '''\n",
    "        Parameters\n",
    "            self: self\n",
    "        Returns\n",
    "            a cleaned df\n",
    "        '''\n",
    "        df = pd.read_csv(self.file_path,encoding='latin1')\n",
    "        df.dropna(inplace=True)\n",
    "        df.drop(['permalink','region','founded_month','founded_quarter'],axis=1,inplace=True)\n",
    "        df['founded_at'] = pd.to_datetime(df['founded_at'],errors='coerce')\n",
    "        df['first_funding_at']= pd.to_datetime(df['first_funding_at'],errors='coerce')\n",
    "        df['last_funding_at']= pd.to_datetime(df['first_funding_at'],errors='coerce')\n",
    "        df['founded_year'] = df['founded_year'].astype('int64')\n",
    "        df.drop(df[df['country_code']=='CAN'].index,inplace=True)\n",
    "        df['funding_total_usd'] = df[' funding_total_usd '].apply(lambda x: x.replace(' ',''))\\\n",
    "            .apply(lambda x: x.replace(',',''))\n",
    "        df['funding_total_usd'] = df['funding_total_usd'].apply(lambda x: x.replace('-','0'))\n",
    "        df['funding_total_usd'] = df['funding_total_usd'].astype('int64')\n",
    "        df['market'] = df[' market '].apply(lambda x: x.replace(' ','')) \n",
    "        df.drop([' market ',' funding_total_usd ','country_code','homepage_url','name','city','last_funding_at', 'round_A', 'round_B',\n",
    "       'round_C', 'round_D', 'round_E', 'round_F', 'round_G', 'round_H','category_list'],axis=1,inplace=True)\n",
    "        return df\n",
    "\n",
    "def feature_engineer(df):\n",
    "    '''\n",
    "    Parameters\n",
    "        df: Takes in a pandas data frame\n",
    "    Returns\n",
    "        a data frame with engineered features\n",
    "    '''\n",
    "    df['time_to_funding'] = abs((df['first_funding_at']-df['founded_at']).dt.days)\n",
    "    test_list = list(df['market'].value_counts()\\\n",
    "        .rename_axis('market').reset_index(name='counts')[:20]['market'])\n",
    "    df.loc[~df[\"market\"].isin(test_list), \"market\"] = \"Other\"\n",
    "    df.dropna(inplace=True)\n",
    "    return df\n",
    "\n",
    "def add_finance(symbol,df):\n",
    "    '''\n",
    "    Parameters\n",
    "        symbol: stock ticker\n",
    "        df: data frame to add \n",
    "    Returns\n",
    "        a data frame with engineered features\n",
    "    '''\n",
    "    finance = yf.Ticker(symbol)\n",
    "    fin_df = finance.history(period=\"max\")\n",
    "    fin_df['avg']=(fin_df['Open']+fin_df['Close'])/2\n",
    "    fin_df.drop(['Open', 'High', 'Low', 'Close', 'Volume', 'Dividends', 'Stock Splits'],axis=1,inplace=True)\n",
    "    fin_df['first_funding_at'] = fin_df.index\n",
    "    \n",
    "    no_finance_data = list(clean_feat_df[clean_feat_df['first_funding_at']<fin_df['first_funding_at'].min()].index)\n",
    "    df.drop(no_finance_data,inplace=True)\n",
    "    df.set_index('first_funding_at')\n",
    "    df = df.merge(fin_df,on='first_funding_at')\n",
    "    return df"
   ]
  },
  {
   "cell_type": "code",
   "execution_count": null,
   "metadata": {},
   "outputs": [],
   "source": []
  },
  {
   "cell_type": "code",
   "execution_count": 337,
   "metadata": {},
   "outputs": [],
   "source": [
    "    intial_df = DataFrame('../../../Downloads/investments_VC.csv').clean()\n",
    "    clean_feat_df=feature_engineer(intial_df)\n",
    "    clean_feat_df=add_finance('^VIX',clean_feat_df)\n",
    "    \n",
    "    #change funding from to dollars to ones and zeros\n",
    "    funding_type_df = clean_feat_df.loc[:,'seed':'product_crowdfunding']\\\n",
    "        .apply(lambda x: x>0).astype('int64')\n",
    "    funding_type_df.drop('undisclosed',axis=1,inplace=True)\n",
    "\n",
    "    #make dummies\n",
    "    col_list = ['Advertising', 'Analytics', 'Biotechnology', 'CleanTechnology',\n",
    "       'Consulting', 'CuratedWeb', 'E-Commerce', 'Education',\n",
    "       'EnterpriseSoftware', 'Finance', 'Games', 'Hardware+Software',\n",
    "       'HealthCare', 'HealthandWellness', 'Manufacturing', 'Mobile',\n",
    "       'Security', 'Semiconductors', 'SocialMedia', 'Software','Other']\n",
    "    market_dummies = pd.get_dummies(clean_feat_df['market']).reindex(columns=col_list)\n",
    "    state_dummies = pd.get_dummies(clean_feat_df['state_code'])\n",
    "\n",
    "    #set targets as ones and zeros\n",
    "    clean_feat_df['status'] = clean_feat_df['status'].apply(lambda x: x.replace('operating','0'))\\\n",
    "        .apply(lambda x: x.replace('acquired','1')).apply(lambda x: x.replace('closed','0'))\n",
    "    clean_feat_df['status'] = clean_feat_df['status'].astype('int64')"
   ]
  },
  {
   "cell_type": "code",
   "execution_count": 355,
   "metadata": {},
   "outputs": [],
   "source": [
    "    #set X and Y, test train split and SMOTE                           \n",
    "    X =market_dummies.iloc[:,:20].join(state_dummies.iloc[:,:50])\\\n",
    "        .join(clean_feat_df['time_to_funding']).join(clean_feat_df['avg']).join(funding_type_df).values\n",
    "    y=clean_feat_df['status'].values\n",
    "    X_train, X_test, y_train, y_test = train_test_split(X, y, stratify=y)\n",
    "    oversample = SMOTE()\n",
    "    X_train, y_train = oversample.fit_resample(X_train, y_train)\n",
    "\n",
    "    #build logisitic model\n",
    "    log_model = LogisticRegression(solver=\"lbfgs\",max_iter=300)\n",
    "    log_model.fit(X_train, y_train)\n",
    "    y_predict_log = log_model.predict(X_test)\n",
    "\n",
    "    #build random forest model\n",
    "    rf = RandomForestClassifier(max_features=42, n_estimators=100)\n",
    "    rf.fit(X_train, y_train)\n",
    "    y_predict_rf = rf.predict(X_test)"
   ]
  },
  {
   "cell_type": "code",
   "execution_count": null,
   "metadata": {},
   "outputs": [],
   "source": []
  },
  {
   "cell_type": "code",
   "execution_count": 356,
   "metadata": {},
   "outputs": [],
   "source": [
    "def eval_model(model, X_test, y_test,threshold):\n",
    "    predicted_proba = model.predict_proba(X_test)\n",
    "    preds = (predicted_proba [:,1] >= threshold).astype('int')\n",
    "#     preds = model.predict(X_test)\n",
    "    acc = accuracy_score(y_test, preds)\n",
    "    rec = recall_score(y_test, preds)\n",
    "    prec = precision_score(y_test, preds)\n",
    "    f1 = f1_score(y_test, preds)\n",
    "    print('===ACCURACY===')\n",
    "    print(acc)\n",
    "    print('===RECALL===')\n",
    "    print(rec)\n",
    "    print('===PRECISION===')\n",
    "    print(prec)\n",
    "    print('===F1===')\n",
    "    print(f1)"
   ]
  },
  {
   "cell_type": "code",
   "execution_count": 357,
   "metadata": {},
   "outputs": [
    {
     "name": "stdout",
     "output_type": "stream",
     "text": [
      "===ACCURACY===\n",
      "0.8898698884758365\n",
      "===RECALL===\n",
      "0.03051643192488263\n",
      "===PRECISION===\n",
      "0.17567567567567569\n",
      "===F1===\n",
      "0.052\n"
     ]
    }
   ],
   "source": [
    "eval_model(rf,X_test, y_test,.6)"
   ]
  },
  {
   "cell_type": "code",
   "execution_count": 358,
   "metadata": {},
   "outputs": [],
   "source": [
    "thresh_list= np.linspace(0,1,101)[::-1]\n",
    "profit = []\n",
    "for val in thresh_list:\n",
    "    threshold = val\n",
    "    predicted_proba = rf.predict_proba(X_test)\n",
    "    preds = (predicted_proba [:,1] > threshold).astype('int')\n",
    "    tn, fp, fn, tp = confusion_matrix(y_test, preds).ravel()\n",
    "    invest = 100000\n",
    "    yearly_return = .27\n",
    "    hold_per=8\n",
    "    profit.append(round((tp/(tn+fp+fn+tp))*(((1+yearly_return)**8)*invest)-((fp/(tn+fp+fn+tp))*invest),2))"
   ]
  },
  {
   "cell_type": "code",
   "execution_count": 359,
   "metadata": {},
   "outputs": [
    {
     "data": {
      "text/plain": [
       "[0.0,\n",
       " 0.0,\n",
       " 0.0,\n",
       " 157.24,\n",
       " 134.0,\n",
       " 134.0,\n",
       " 134.0,\n",
       " 134.0,\n",
       " 110.77,\n",
       " 110.77,\n",
       " 110.77,\n",
       " 110.77,\n",
       " 110.77,\n",
       " 64.3,\n",
       " 41.07,\n",
       " 41.07,\n",
       " 41.07,\n",
       " 41.07,\n",
       " 41.07,\n",
       " -5.4,\n",
       " -5.4,\n",
       " -5.4,\n",
       " -28.64,\n",
       " -28.64,\n",
       " 82.13,\n",
       " 192.9,\n",
       " 169.67,\n",
       " 99.97,\n",
       " 30.26,\n",
       " 141.03,\n",
       " 409.04,\n",
       " 292.87,\n",
       " 403.64,\n",
       " 333.94,\n",
       " 491.18,\n",
       " 421.47,\n",
       " 328.54,\n",
       " 660.84,\n",
       " 655.44,\n",
       " 585.74,\n",
       " 492.8,\n",
       " 626.81,\n",
       " 487.4,\n",
       " 732.18,\n",
       " 819.71,\n",
       " 1041.25,\n",
       " 1303.86,\n",
       " 1682.63,\n",
       " 1857.7,\n",
       " 2009.54,\n",
       " 1975.5,\n",
       " 2150.58,\n",
       " 2075.47,\n",
       " 2338.08,\n",
       " 2536.38,\n",
       " 2391.58,\n",
       " 2270.0,\n",
       " 2736.32,\n",
       " 2684.45,\n",
       " 3261.53,\n",
       " 3681.37,\n",
       " 4322.76,\n",
       " 4329.79,\n",
       " 4342.22,\n",
       " 4215.24,\n",
       " 4583.22,\n",
       " 4363.31,\n",
       " 4911.75,\n",
       " 4598.91,\n",
       " 4850.71,\n",
       " 5486.69,\n",
       " 5604.49,\n",
       " 5920.6,\n",
       " 6236.7,\n",
       " 6395.57,\n",
       " 7031.55,\n",
       " 6800.84,\n",
       " 7163.41,\n",
       " 7497.35,\n",
       " 7552.47,\n",
       " 7205.59,\n",
       " 7085.64,\n",
       " 7210.47,\n",
       " 7819.45,\n",
       " 7426.1,\n",
       " 7627.66,\n",
       " 7171.63,\n",
       " 6937.15,\n",
       " 6684.83,\n",
       " 6352.0,\n",
       " 5779.81,\n",
       " 5511.28,\n",
       " 4817.51,\n",
       " 3607.19,\n",
       " 2618.41,\n",
       " 2865.92,\n",
       " 2223.51,\n",
       " 221.08,\n",
       " -943.29,\n",
       " -5826.76,\n",
       " -11178.69]"
      ]
     },
     "execution_count": 359,
     "metadata": {},
     "output_type": "execute_result"
    }
   ],
   "source": [
    "profit"
   ]
  },
  {
   "cell_type": "code",
   "execution_count": null,
   "metadata": {},
   "outputs": [],
   "source": []
  },
  {
   "cell_type": "code",
   "execution_count": 360,
   "metadata": {},
   "outputs": [
    {
     "data": {
      "text/plain": [
       "array([100,  99,  98,  23,  22,  21,  20,  19,   0,   2,   1,  28,  14,\n",
       "        15,  16,  17,  18,  13,  24,  27,   9,   8,  12,  10,  11,   4,\n",
       "         6,   7,   5,  29,   3,  26,  25,  97,  31,  36,  33,  32,  30,\n",
       "        35,  42,  34,  40,  39,  41,  38,  37,  43,  44,  45,  46,  47,\n",
       "        48,  50,  49,  52,  51,  96,  56,  53,  55,  54,  94,  58,  57,\n",
       "        95,  59,  93,  60,  64,  61,  62,  63,  66,  65,  68,  92,  69,\n",
       "        67,  70,  91,  71,  90,  72,  73,  89,  74,  88,  76,  87,  75,\n",
       "        81,  77,  86,  80,  82,  84,  78,  79,  85,  83])"
      ]
     },
     "execution_count": 360,
     "metadata": {},
     "output_type": "execute_result"
    }
   ],
   "source": [
    "np.argsort(profit)"
   ]
  },
  {
   "cell_type": "code",
   "execution_count": 362,
   "metadata": {},
   "outputs": [
    {
     "data": {
      "text/plain": [
       "0.17"
      ]
     },
     "execution_count": 362,
     "metadata": {},
     "output_type": "execute_result"
    }
   ],
   "source": [
    "thresh_list[83]"
   ]
  },
  {
   "cell_type": "code",
   "execution_count": null,
   "metadata": {},
   "outputs": [],
   "source": []
  }
 ],
 "metadata": {
  "kernelspec": {
   "display_name": "Python 3",
   "language": "python",
   "name": "python3"
  },
  "language_info": {
   "codemirror_mode": {
    "name": "ipython",
    "version": 3
   },
   "file_extension": ".py",
   "mimetype": "text/x-python",
   "name": "python",
   "nbconvert_exporter": "python",
   "pygments_lexer": "ipython3",
   "version": "3.7.6"
  }
 },
 "nbformat": 4,
 "nbformat_minor": 4
}
