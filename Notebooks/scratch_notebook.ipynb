{
 "cells": [
  {
   "cell_type": "code",
   "execution_count": 1,
   "metadata": {},
   "outputs": [],
   "source": [
    "\n",
    "import pandas as pd\n",
    "import numpy as np\n",
    "from datetime import datetime\n",
    "import matplotlib.pyplot as plt\n",
    "plt.rcParams.update({'font.size': 17})\n",
    "import folium\n",
    "import re\n",
    "from sklearn import preprocessing\n",
    "from sklearn.linear_model import LogisticRegression\n",
    "from sklearn.model_selection import KFold, train_test_split\n",
    "from sklearn.metrics import accuracy_score, precision_score, recall_score\n",
    "from sklearn.ensemble import RandomForestClassifier,AdaBoostRegressor\n",
    "from imblearn.over_sampling import SMOTE\n",
    "from sklearn.model_selection import GridSearchCV\n",
    "\n",
    "class DataFrame(object):\n",
    "\n",
    "    def __init__(self,file_path):\n",
    "        \"\"\"Create df object\n",
    "        Parameters\n",
    "        ----------\n",
    "        file_path: takes in a file path to raw data\n",
    "        \"\"\"\n",
    "        self.file_path = file_path\n",
    "        \n",
    "    def clean(self):\n",
    "        '''\n",
    "        Parameters\n",
    "            self: self\n",
    "        Returns\n",
    "            a cleaned df\n",
    "        '''\n",
    "        df = pd.read_csv(self.file_path,encoding='latin1')\n",
    "        df.dropna(inplace=True)\n",
    "        df.drop(['permalink','region','founded_month','founded_quarter'],axis=1,inplace=True)\n",
    "        df['founded_at'] = pd.to_datetime(df['founded_at'],errors='coerce')\n",
    "        df['first_funding_at']= pd.to_datetime(df['first_funding_at'],errors='coerce')\n",
    "        df['last_funding_at']= pd.to_datetime(df['first_funding_at'],errors='coerce')\n",
    "        df['founded_year'] = df['founded_year'].astype('int64')\n",
    "        df.drop(df[df['country_code']=='CAN'].index,inplace=True)\n",
    "        df['funding_total_usd'] = df[' funding_total_usd '].apply(lambda x: x.replace(' ',''))\\\n",
    "            .apply(lambda x: x.replace(',',''))\n",
    "        df['funding_total_usd'] = df['funding_total_usd'].apply(lambda x: x.replace('-','0'))\n",
    "        df['funding_total_usd'] = df['funding_total_usd'].astype('int64')\n",
    "        df['market'] = df[' market '].apply(lambda x: x.replace(' ',''))\n",
    "        df.drop([' market ',' funding_total_usd ','country_code','homepage_url','name','city','last_funding_at', 'round_A', 'round_B',\n",
    "       'round_C', 'round_D', 'round_E', 'round_F', 'round_G', 'round_H','category_list'],axis=1,inplace=True)\n",
    "        return df\n",
    "\n",
    "def feature_engineer(df):\n",
    "    '''\n",
    "    Parameters\n",
    "        df: Takes in a pandas data frame\n",
    "    Returns\n",
    "        a data frame with engineered features\n",
    "    '''\n",
    "    df['time_to_funding'] = abs((df['first_funding_at']-df['founded_at']).dt.days)\n",
    "    test_list = list(df['market'].value_counts()\\\n",
    "        .rename_axis('market').reset_index(name='counts')[:20]['market'])\n",
    "    df.loc[~df[\"market\"].isin(test_list), \"market\"] = \"Other\"\n",
    "    df.dropna(inplace=True)\n",
    "    return df\n",
    "\n",
    "def create_pie_charts(df,column,column_val,target):\n",
    "    '''\n",
    "    Parameters\n",
    "    df: Cleaned data frame\n",
    "    column: column of data frame used to split data as string\n",
    "    column_val: Value we are looking for in column as string\n",
    "    target: The target values we are trying to predict\n",
    "    Returns\n",
    "    a saved image in the images folder\n",
    "    '''\n",
    "    column_val_title = ' '.join(re.findall('[A-Z][^A-Z]*',column_val))\n",
    "    pie_df = df[df[column]==column_val][target].value_counts().rename_axis(target)\\\n",
    "        .reset_index(name='counts')\n",
    "    pie_df['pct'] = pie_df['counts']/len(pie_df)\n",
    "    labels=pie_df[target]\n",
    "    fig, ax = plt.subplots(figsize=(14,7))\n",
    "    ax.pie(pie_df['pct'], explode=[0,.2,0], labels=labels, \\\n",
    "        autopct='%1.1f%%',shadow=False, startangle=50)\n",
    "    ax.axis('equal')\n",
    "    ax.set_title(f'{target.capitalize()} Of {column_val_title} Market',fontweight='bold')\n",
    "    plt.savefig(f'../images/{column_val}_pie.png',dpi=500)\n",
    "    plt.close(fig='all')\n",
    "\n",
    "\n",
    "if __name__ == '__main__':\n",
    "\n",
    "    #intialized dataframe class and build features\n",
    "    intial_df = DataFrame('../../../Downloads/investments_VC.csv').clean()\n",
    "    clean_feat_df=feature_engineer(intial_df)"
   ]
  },
  {
   "cell_type": "code",
   "execution_count": 13,
   "metadata": {},
   "outputs": [
    {
     "data": {
      "image/png": "[encoded data removed]",
      "text/plain": [
       "<Figure size 1008x504 with 1 Axes>"
      ]
     },
     "metadata": {
      "needs_background": "light"
     },
     "output_type": "display_data"
    }
   ],
   "source": [
    "status_df = clean_feat_df['status'].value_counts().rename_axis('status').reset_index(name='counts')\n",
    "status_df ['pct'] = round((status_df['counts']/status_df['counts'].sum())*100,2)\n",
    "status_df\n",
    "labels=status_df['status']\n",
    "fig, ax = plt.subplots(figsize=(14,7))\n",
    "ax.bar(status_df['status'],status_df['pct'])\n",
    "ax.set_xlabel('Business Status')\n",
    "ax.set_ylabel('Percentage (%)')\n",
    "ax.set_title('Business Status Percentages',fontweight='bold')\n",
    "plt.tight_layout()\n",
    "plt.savefig('../images/business_status.png')"
   ]
  },
  {
   "cell_type": "code",
   "execution_count": 14,
   "metadata": {},
   "outputs": [
    {
     "data": {
      "text/plain": [
       "<BarContainer object of 4 artists>"
      ]
     },
     "execution_count": 14,
     "metadata": {},
     "output_type": "execute_result"
    },
    {
     "data": {
      "image/png": "[encoded data removed]",
      "text/plain": [
       "<Figure size 432x288 with 1 Axes>"
      ]
     },
     "metadata": {
      "needs_background": "light"
     },
     "output_type": "display_data"
    }
   ],
   "source": [
    "data = [[30, 25, 50, 20],\n",
    "[40, 23, 51, 17],\n",
    "[35, 22, 45, 19]]\n",
    "X = np.arange(4)\n",
    "fig = plt.figure()\n",
    "ax = fig.add_axes([0,0,1,1])\n",
    "ax.bar(X + 0.00, data[0], color = 'b', width = 0.25)\n",
    "ax.bar(X + 0.25, data[1], color = 'g', width = 0.25)\n",
    "ax.bar(X + 0.50, data[2], color = 'r', width = 0.25)"
   ]
  },
  {
   "cell_type": "code",
   "execution_count": 16,
   "metadata": {},
   "outputs": [
    {
     "data": {
      "text/plain": [
       "array([0, 1, 2, 3])"
      ]
     },
     "execution_count": 16,
     "metadata": {},
     "output_type": "execute_result"
    }
   ],
   "source": [
    "X"
   ]
  },
  {
   "cell_type": "code",
   "execution_count": null,
   "metadata": {},
   "outputs": [],
   "source": []
  }
 ],
 "metadata": {
  "kernelspec": {
   "display_name": "Python 3",
   "language": "python",
   "name": "python3"
  },
  "language_info": {
   "codemirror_mode": {
    "name": "ipython",
    "version": 3
   },
   "file_extension": ".py",
   "mimetype": "text/x-python",
   "name": "python",
   "nbconvert_exporter": "python",
   "pygments_lexer": "ipython3",
   "version": "3.7.6"
  }
 },
 "nbformat": 4,
 "nbformat_minor": 4
}
