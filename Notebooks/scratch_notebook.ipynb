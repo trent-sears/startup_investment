{
 "cells": [
  {
   "cell_type": "code",
   "execution_count": null,
   "metadata": {},
   "outputs": [],
   "source": [
    "df = pd.read_csv('../../../Downloads/investments_VC.csv',encoding='latin1')\n",
    "len(df.columns)\n",
    "len(df)"
   ]
  },
  {
   "cell_type": "code",
   "execution_count": 35,
   "metadata": {},
   "outputs": [],
   "source": [
    "import pandas as pd\n",
    "import numpy as np\n",
    "from datetime import datetime\n",
    "import matplotlib.pyplot as plt\n",
    "plt.rcParams.update({'font.size': 17})\n",
    "import folium\n",
    "import re\n",
    "from sklearn import preprocessing\n",
    "from sklearn.datasets import make_classification\n",
    "from sklearn.linear_model import LogisticRegression\n",
    "from sklearn.model_selection import KFold, train_test_split,cross_val_score\n",
    "from sklearn.metrics import accuracy_score, precision_score, recall_score\n",
    "from sklearn.ensemble import RandomForestClassifier\n",
    "from imblearn.over_sampling import SMOTE\n",
    "from sklearn.model_selection import GridSearchCV\n",
    "from sklearn.ensemble import AdaBoostRegressor\n",
    "\n",
    "\n",
    "class DataFrame(object):\n",
    "\n",
    "    def __init__(self,file_path):\n",
    "        \"\"\"Create df object\n",
    "        Parameters\n",
    "        ----------\n",
    "        file_path: takes in a file path to raw data\n",
    "        \"\"\"\n",
    "        self.file_path = file_path\n",
    "        \n",
    "    def clean(self):\n",
    "        '''\n",
    "        Parameters\n",
    "            self: self\n",
    "        Returns\n",
    "            a cleaned df\n",
    "        '''\n",
    "        df = pd.read_csv(self.file_path,encoding='latin1')\n",
    "        df.dropna(inplace=True)\n",
    "        df.drop(['permalink','region','founded_month','founded_quarter'],axis=1,inplace=True)\n",
    "        df['founded_at'] = pd.to_datetime(df['founded_at'],errors='coerce')\n",
    "        df['first_funding_at']= pd.to_datetime(df['first_funding_at'],errors='coerce')\n",
    "        df['last_funding_at']= pd.to_datetime(df['first_funding_at'],errors='coerce')\n",
    "        df['founded_year'] = df['founded_year'].astype('int64')\n",
    "        df.drop(df[df['country_code']=='CAN'].index,inplace=True)\n",
    "        df['funding_total_usd'] = df[' funding_total_usd '].apply(lambda x: x.replace(' ',''))\\\n",
    "            .apply(lambda x: x.replace(',',''))\n",
    "        df['funding_total_usd'] = df['funding_total_usd'].apply(lambda x: x.replace('-','0'))\n",
    "        df['funding_total_usd'] = df['funding_total_usd'].astype('int64')\n",
    "        df['market'] = df[' market '].apply(lambda x: x.replace(' ',''))\n",
    "        df.drop([' market ',' funding_total_usd ','country_code','homepage_url','name','founded_year','city','last_funding_at', 'round_A', 'round_B',\n",
    "       'round_C', 'round_D', 'round_E', 'round_F', 'round_G', 'round_H','category_list'],axis=1,inplace=True)\n",
    "        return df\n",
    "\n",
    "def feature_engineer(df):\n",
    "    '''\n",
    "    Parameters\n",
    "        df: Takes in a pandas data frame\n",
    "    Returns\n",
    "        a data frame with engineered features\n",
    "    '''\n",
    "    df['time_to_funding'] = abs((df['first_funding_at']-df['founded_at']).dt.days)\n",
    "    test_list = list(df['market'].value_counts().rename_axis('market').reset_index(name='counts')[:20]['market'])\n",
    "    df.loc[~df[\"market\"].isin(test_list), \"market\"] = \"Other\"\n",
    "    df.dropna(inplace=True)\n",
    "    return df\n",
    "\n",
    "\n",
    "intial_df =DataFrame('../../../Downloads/investments_VC.csv').clean()\n",
    "clean_feat_df=feature_engineer(intial_df)"
   ]
  },
  {
   "cell_type": "code",
   "execution_count": 59,
   "metadata": {},
   "outputs": [
    {
     "data": {
      "text/plain": [
       "21"
      ]
     },
     "execution_count": 59,
     "metadata": {},
     "output_type": "execute_result"
    }
   ],
   "source": [
    "len(clean_feat_df.columns)"
   ]
  },
  {
   "cell_type": "code",
   "execution_count": 37,
   "metadata": {},
   "outputs": [
    {
     "data": {
      "text/plain": [
       "913505052.0"
      ]
     },
     "execution_count": 37,
     "metadata": {},
     "output_type": "execute_result"
    }
   ],
   "source": [
    "clean_feat_df['secondary_market'].sum()"
   ]
  },
  {
   "cell_type": "code",
   "execution_count": 38,
   "metadata": {},
   "outputs": [],
   "source": [
    "#     #plot using folium to look at business and status by state\n",
    "#     state_df = clean_feat_df['state_code'].value_counts()\\\n",
    "#         .rename_axis('state').reset_index(name='counts')\n",
    "#     state_df.sort_values(by='state',inplace=True)\n",
    "#     acquired_df = clean_feat_df[clean_feat_df['status']=='acquired']['state_code']\\\n",
    "#         .value_counts().rename_axis('state').reset_index(name='counts')\n",
    "#     url = 'https://raw.githubusercontent.com/python-visualization/folium/master/examples/data'\n",
    "#     state_geo = f'{url}/us-states.json'\n",
    "\n",
    "#     m = folium.Map(location=[48, -102], zoom_start=3)\n",
    "\n",
    "#     folium.Choropleth(\n",
    "#         geo_data=state_geo,\n",
    "#         name='All States',\n",
    "#         data=state_df,\n",
    "#         columns=['state', 'counts'],\n",
    "#         key_on='feature.id',\n",
    "#         fill_color='YlGn',\n",
    "#         fill_opacity=0.7,\n",
    "#         line_opacity=0.2,\n",
    "#         legend_name='Businesses By State'\n",
    "#     ).add_to(m)\n",
    "\n",
    "#     folium.Choropleth(\n",
    "#         geo_data=state_geo,\n",
    "#         name='Remove CA',\n",
    "#         data=state_df.drop(state_df[state_df['state']=='CA'].index),\n",
    "#         columns=['state', 'counts'],\n",
    "#         key_on='feature.id',\n",
    "#         fill_color='BuPu',\n",
    "#         fill_opacity=0.7,\n",
    "#         line_opacity=0.2,\n",
    "#         legend_name='Businesses By State (No CA)'\n",
    "#     ).add_to(m)\n",
    "\n",
    "#     folium.Choropleth(\n",
    "#         geo_data=state_geo,\n",
    "#         name='Acquired Businesses',\n",
    "#         data=acquired_df,\n",
    "#         columns=['state', 'counts'],\n",
    "#         key_on='feature.id',\n",
    "#         fill_color='OrRd',\n",
    "#         fill_opacity=0.7,\n",
    "#         line_opacity=0.2,\n",
    "#         legend_name='Acquired Businesses'\n",
    "#     ).add_to(m)\n",
    "\n",
    "#     folium.Choropleth(\n",
    "#         geo_data=state_geo,\n",
    "#         name='acquired Businesses remove CA',\n",
    "#         data=acquired_df.drop(acquired_df[acquired_df['state']=='CA'].index),\n",
    "#         columns=['state', 'counts'],\n",
    "#         key_on='feature.id',\n",
    "#         fill_color='OrRd',\n",
    "#         fill_opacity=0.7,\n",
    "#         line_opacity=0.2,\n",
    "#         legend_name='acquired Businesses (No CA)'\n",
    "#     ).add_to(m)\n",
    "\n",
    "#     folium.LayerControl().add_to(m)\n",
    "#     m"
   ]
  },
  {
   "cell_type": "code",
   "execution_count": null,
   "metadata": {},
   "outputs": [],
   "source": []
  },
  {
   "cell_type": "code",
   "execution_count": null,
   "metadata": {},
   "outputs": [],
   "source": []
  },
  {
   "cell_type": "code",
   "execution_count": 39,
   "metadata": {},
   "outputs": [],
   "source": [
    "funding_type_df = clean_feat_df.loc[:,'seed':'product_crowdfunding'].apply(lambda x: x>0).astype('int64')"
   ]
  },
  {
   "cell_type": "code",
   "execution_count": 40,
   "metadata": {},
   "outputs": [],
   "source": [
    "funding_type_df.drop('undisclosed',axis=1,inplace=True)"
   ]
  },
  {
   "cell_type": "code",
   "execution_count": null,
   "metadata": {},
   "outputs": [],
   "source": []
  },
  {
   "cell_type": "code",
   "execution_count": 41,
   "metadata": {},
   "outputs": [],
   "source": [
    "col_list = list(clean_feat_df['market'].value_counts().sort_values().rename_axis('market').reset_index(name='counts')['market'])"
   ]
  },
  {
   "cell_type": "code",
   "execution_count": 42,
   "metadata": {},
   "outputs": [],
   "source": [
    "funding_type_df = clean_feat_df.loc[:,'seed':'product_crowdfunding'].apply(lambda x: x>0).astype('int64')"
   ]
  },
  {
   "cell_type": "code",
   "execution_count": null,
   "metadata": {},
   "outputs": [],
   "source": []
  },
  {
   "cell_type": "code",
   "execution_count": null,
   "metadata": {},
   "outputs": [],
   "source": []
  },
  {
   "cell_type": "code",
   "execution_count": null,
   "metadata": {},
   "outputs": [],
   "source": []
  },
  {
   "cell_type": "code",
   "execution_count": 54,
   "metadata": {},
   "outputs": [
    {
     "ename": "AttributeError",
     "evalue": "'int' object has no attribute 'replace'",
     "output_type": "error",
     "traceback": [
      "\u001b[0;31m---------------------------------------------------------------------------\u001b[0m",
      "\u001b[0;31mAttributeError\u001b[0m                            Traceback (most recent call last)",
      "\u001b[0;32m<ipython-input-54-ef02542e2751>\u001b[0m in \u001b[0;36m<module>\u001b[0;34m\u001b[0m\n\u001b[1;32m      3\u001b[0m \u001b[0mcol_list\u001b[0m \u001b[0;34m=\u001b[0m \u001b[0mlist\u001b[0m\u001b[0;34m(\u001b[0m\u001b[0mclean_feat_df\u001b[0m\u001b[0;34m[\u001b[0m\u001b[0;34m'market'\u001b[0m\u001b[0;34m]\u001b[0m\u001b[0;34m.\u001b[0m\u001b[0mvalue_counts\u001b[0m\u001b[0;34m(\u001b[0m\u001b[0;34m)\u001b[0m\u001b[0;34m.\u001b[0m\u001b[0msort_values\u001b[0m\u001b[0;34m(\u001b[0m\u001b[0;34m)\u001b[0m\u001b[0;34m.\u001b[0m\u001b[0mrename_axis\u001b[0m\u001b[0;34m(\u001b[0m\u001b[0;34m'market'\u001b[0m\u001b[0;34m)\u001b[0m\u001b[0;34m.\u001b[0m\u001b[0mreset_index\u001b[0m\u001b[0;34m(\u001b[0m\u001b[0mname\u001b[0m\u001b[0;34m=\u001b[0m\u001b[0;34m'counts'\u001b[0m\u001b[0;34m)\u001b[0m\u001b[0;34m[\u001b[0m\u001b[0;34m'market'\u001b[0m\u001b[0;34m]\u001b[0m\u001b[0;34m)\u001b[0m\u001b[0;34m\u001b[0m\u001b[0;34m\u001b[0m\u001b[0m\n\u001b[1;32m      4\u001b[0m \u001b[0;34m\u001b[0m\u001b[0m\n\u001b[0;32m----> 5\u001b[0;31m \u001b[0mclean_feat_df\u001b[0m\u001b[0;34m[\u001b[0m\u001b[0;34m'status'\u001b[0m\u001b[0;34m]\u001b[0m \u001b[0;34m=\u001b[0m \u001b[0mclean_feat_df\u001b[0m\u001b[0;34m[\u001b[0m\u001b[0;34m'status'\u001b[0m\u001b[0;34m]\u001b[0m\u001b[0;34m.\u001b[0m\u001b[0mapply\u001b[0m\u001b[0;34m(\u001b[0m\u001b[0;32mlambda\u001b[0m \u001b[0mx\u001b[0m\u001b[0;34m:\u001b[0m \u001b[0mx\u001b[0m\u001b[0;34m.\u001b[0m\u001b[0mreplace\u001b[0m\u001b[0;34m(\u001b[0m\u001b[0;34m'operating'\u001b[0m\u001b[0;34m,\u001b[0m\u001b[0;34m'0'\u001b[0m\u001b[0;34m)\u001b[0m\u001b[0;34m)\u001b[0m\u001b[0;34m.\u001b[0m\u001b[0mapply\u001b[0m\u001b[0;34m(\u001b[0m\u001b[0;32mlambda\u001b[0m \u001b[0mx\u001b[0m\u001b[0;34m:\u001b[0m \u001b[0mx\u001b[0m\u001b[0;34m.\u001b[0m\u001b[0mreplace\u001b[0m\u001b[0;34m(\u001b[0m\u001b[0;34m'acquired'\u001b[0m\u001b[0;34m,\u001b[0m\u001b[0;34m'1'\u001b[0m\u001b[0;34m)\u001b[0m\u001b[0;34m)\u001b[0m\u001b[0;34m.\u001b[0m\u001b[0mapply\u001b[0m\u001b[0;34m(\u001b[0m\u001b[0;32mlambda\u001b[0m \u001b[0mx\u001b[0m\u001b[0;34m:\u001b[0m \u001b[0mx\u001b[0m\u001b[0;34m.\u001b[0m\u001b[0mreplace\u001b[0m\u001b[0;34m(\u001b[0m\u001b[0;34m'closed'\u001b[0m\u001b[0;34m,\u001b[0m\u001b[0;34m'0'\u001b[0m\u001b[0;34m)\u001b[0m\u001b[0;34m)\u001b[0m\u001b[0;34m\u001b[0m\u001b[0;34m\u001b[0m\u001b[0m\n\u001b[0m\u001b[1;32m      6\u001b[0m \u001b[0mclean_feat_df\u001b[0m\u001b[0;34m[\u001b[0m\u001b[0;34m'status'\u001b[0m\u001b[0;34m]\u001b[0m \u001b[0;34m=\u001b[0m \u001b[0mclean_feat_df\u001b[0m\u001b[0;34m[\u001b[0m\u001b[0;34m'status'\u001b[0m\u001b[0;34m]\u001b[0m\u001b[0;34m.\u001b[0m\u001b[0mastype\u001b[0m\u001b[0;34m(\u001b[0m\u001b[0;34m'int64'\u001b[0m\u001b[0;34m)\u001b[0m\u001b[0;34m\u001b[0m\u001b[0;34m\u001b[0m\u001b[0m\n\u001b[1;32m      7\u001b[0m \u001b[0;34m\u001b[0m\u001b[0m\n",
      "\u001b[0;32m~/opt/anaconda3/lib/python3.7/site-packages/pandas/core/series.py\u001b[0m in \u001b[0;36mapply\u001b[0;34m(self, func, convert_dtype, args, **kwds)\u001b[0m\n\u001b[1;32m   3846\u001b[0m             \u001b[0;32melse\u001b[0m\u001b[0;34m:\u001b[0m\u001b[0;34m\u001b[0m\u001b[0;34m\u001b[0m\u001b[0m\n\u001b[1;32m   3847\u001b[0m                 \u001b[0mvalues\u001b[0m \u001b[0;34m=\u001b[0m \u001b[0mself\u001b[0m\u001b[0;34m.\u001b[0m\u001b[0mastype\u001b[0m\u001b[0;34m(\u001b[0m\u001b[0mobject\u001b[0m\u001b[0;34m)\u001b[0m\u001b[0;34m.\u001b[0m\u001b[0mvalues\u001b[0m\u001b[0;34m\u001b[0m\u001b[0;34m\u001b[0m\u001b[0m\n\u001b[0;32m-> 3848\u001b[0;31m                 \u001b[0mmapped\u001b[0m \u001b[0;34m=\u001b[0m \u001b[0mlib\u001b[0m\u001b[0;34m.\u001b[0m\u001b[0mmap_infer\u001b[0m\u001b[0;34m(\u001b[0m\u001b[0mvalues\u001b[0m\u001b[0;34m,\u001b[0m \u001b[0mf\u001b[0m\u001b[0;34m,\u001b[0m \u001b[0mconvert\u001b[0m\u001b[0;34m=\u001b[0m\u001b[0mconvert_dtype\u001b[0m\u001b[0;34m)\u001b[0m\u001b[0;34m\u001b[0m\u001b[0;34m\u001b[0m\u001b[0m\n\u001b[0m\u001b[1;32m   3849\u001b[0m \u001b[0;34m\u001b[0m\u001b[0m\n\u001b[1;32m   3850\u001b[0m         \u001b[0;32mif\u001b[0m \u001b[0mlen\u001b[0m\u001b[0;34m(\u001b[0m\u001b[0mmapped\u001b[0m\u001b[0;34m)\u001b[0m \u001b[0;32mand\u001b[0m \u001b[0misinstance\u001b[0m\u001b[0;34m(\u001b[0m\u001b[0mmapped\u001b[0m\u001b[0;34m[\u001b[0m\u001b[0;36m0\u001b[0m\u001b[0;34m]\u001b[0m\u001b[0;34m,\u001b[0m \u001b[0mSeries\u001b[0m\u001b[0;34m)\u001b[0m\u001b[0;34m:\u001b[0m\u001b[0;34m\u001b[0m\u001b[0;34m\u001b[0m\u001b[0m\n",
      "\u001b[0;32mpandas/_libs/lib.pyx\u001b[0m in \u001b[0;36mpandas._libs.lib.map_infer\u001b[0;34m()\u001b[0m\n",
      "\u001b[0;32m<ipython-input-54-ef02542e2751>\u001b[0m in \u001b[0;36m<lambda>\u001b[0;34m(x)\u001b[0m\n\u001b[1;32m      3\u001b[0m \u001b[0mcol_list\u001b[0m \u001b[0;34m=\u001b[0m \u001b[0mlist\u001b[0m\u001b[0;34m(\u001b[0m\u001b[0mclean_feat_df\u001b[0m\u001b[0;34m[\u001b[0m\u001b[0;34m'market'\u001b[0m\u001b[0;34m]\u001b[0m\u001b[0;34m.\u001b[0m\u001b[0mvalue_counts\u001b[0m\u001b[0;34m(\u001b[0m\u001b[0;34m)\u001b[0m\u001b[0;34m.\u001b[0m\u001b[0msort_values\u001b[0m\u001b[0;34m(\u001b[0m\u001b[0;34m)\u001b[0m\u001b[0;34m.\u001b[0m\u001b[0mrename_axis\u001b[0m\u001b[0;34m(\u001b[0m\u001b[0;34m'market'\u001b[0m\u001b[0;34m)\u001b[0m\u001b[0;34m.\u001b[0m\u001b[0mreset_index\u001b[0m\u001b[0;34m(\u001b[0m\u001b[0mname\u001b[0m\u001b[0;34m=\u001b[0m\u001b[0;34m'counts'\u001b[0m\u001b[0;34m)\u001b[0m\u001b[0;34m[\u001b[0m\u001b[0;34m'market'\u001b[0m\u001b[0;34m]\u001b[0m\u001b[0;34m)\u001b[0m\u001b[0;34m\u001b[0m\u001b[0;34m\u001b[0m\u001b[0m\n\u001b[1;32m      4\u001b[0m \u001b[0;34m\u001b[0m\u001b[0m\n\u001b[0;32m----> 5\u001b[0;31m \u001b[0mclean_feat_df\u001b[0m\u001b[0;34m[\u001b[0m\u001b[0;34m'status'\u001b[0m\u001b[0;34m]\u001b[0m \u001b[0;34m=\u001b[0m \u001b[0mclean_feat_df\u001b[0m\u001b[0;34m[\u001b[0m\u001b[0;34m'status'\u001b[0m\u001b[0;34m]\u001b[0m\u001b[0;34m.\u001b[0m\u001b[0mapply\u001b[0m\u001b[0;34m(\u001b[0m\u001b[0;32mlambda\u001b[0m \u001b[0mx\u001b[0m\u001b[0;34m:\u001b[0m \u001b[0mx\u001b[0m\u001b[0;34m.\u001b[0m\u001b[0mreplace\u001b[0m\u001b[0;34m(\u001b[0m\u001b[0;34m'operating'\u001b[0m\u001b[0;34m,\u001b[0m\u001b[0;34m'0'\u001b[0m\u001b[0;34m)\u001b[0m\u001b[0;34m)\u001b[0m\u001b[0;34m.\u001b[0m\u001b[0mapply\u001b[0m\u001b[0;34m(\u001b[0m\u001b[0;32mlambda\u001b[0m \u001b[0mx\u001b[0m\u001b[0;34m:\u001b[0m \u001b[0mx\u001b[0m\u001b[0;34m.\u001b[0m\u001b[0mreplace\u001b[0m\u001b[0;34m(\u001b[0m\u001b[0;34m'acquired'\u001b[0m\u001b[0;34m,\u001b[0m\u001b[0;34m'1'\u001b[0m\u001b[0;34m)\u001b[0m\u001b[0;34m)\u001b[0m\u001b[0;34m.\u001b[0m\u001b[0mapply\u001b[0m\u001b[0;34m(\u001b[0m\u001b[0;32mlambda\u001b[0m \u001b[0mx\u001b[0m\u001b[0;34m:\u001b[0m \u001b[0mx\u001b[0m\u001b[0;34m.\u001b[0m\u001b[0mreplace\u001b[0m\u001b[0;34m(\u001b[0m\u001b[0;34m'closed'\u001b[0m\u001b[0;34m,\u001b[0m\u001b[0;34m'0'\u001b[0m\u001b[0;34m)\u001b[0m\u001b[0;34m)\u001b[0m\u001b[0;34m\u001b[0m\u001b[0;34m\u001b[0m\u001b[0m\n\u001b[0m\u001b[1;32m      6\u001b[0m \u001b[0mclean_feat_df\u001b[0m\u001b[0;34m[\u001b[0m\u001b[0;34m'status'\u001b[0m\u001b[0;34m]\u001b[0m \u001b[0;34m=\u001b[0m \u001b[0mclean_feat_df\u001b[0m\u001b[0;34m[\u001b[0m\u001b[0;34m'status'\u001b[0m\u001b[0;34m]\u001b[0m\u001b[0;34m.\u001b[0m\u001b[0mastype\u001b[0m\u001b[0;34m(\u001b[0m\u001b[0;34m'int64'\u001b[0m\u001b[0;34m)\u001b[0m\u001b[0;34m\u001b[0m\u001b[0;34m\u001b[0m\u001b[0m\n\u001b[1;32m      7\u001b[0m \u001b[0;34m\u001b[0m\u001b[0m\n",
      "\u001b[0;31mAttributeError\u001b[0m: 'int' object has no attribute 'replace'"
     ]
    }
   ],
   "source": [
    "funding_type_df = clean_feat_df.loc[:,'seed':'product_crowdfunding'].apply(lambda x: x>0).astype('int64')\n",
    "\n",
    "col_list = list(clean_feat_df['market'].value_counts().sort_values().rename_axis('market').reset_index(name='counts')['market'])\n",
    "\n",
    "clean_feat_df['status'] = clean_feat_df['status'].apply(lambda x: x.replace('operating','0')).apply(lambda x: x.replace('acquired','1')).apply(lambda x: x.replace('closed','0'))\n",
    "clean_feat_df['status'] = clean_feat_df['status'].astype('int64')\n",
    "\n",
    "market_dummies = pd.get_dummies(clean_feat_df['market']).reindex(columns=col_list)\n",
    "state_dummies = pd.get_dummies(clean_feat_df['state_code']"
   ]
  },
  {
   "cell_type": "code",
   "execution_count": 44,
   "metadata": {},
   "outputs": [
    {
     "name": "stdout",
     "output_type": "stream",
     "text": [
      "Accuracy test: 0.6765720858895705\n",
      "Precision: 0.1788482834994463\n"
     ]
    }
   ],
   "source": [
    "# X =market_dummies.iloc[:,:20].join(state_dummies.iloc[:,:50]).join(clean_feat_df['time_to_funding']).join(funding_type_df).values\n",
    "# y=clean_feat_df['status'].values\n",
    "\n",
    "# X_train, X_test, y_train, y_test = train_test_split(X, y)\n",
    "\n",
    "# oversample = SMOTE()\n",
    "# X_train, y_train = oversample.fit_resample(X_train, y_train)\n",
    "\n",
    "\n",
    "# model = LogisticRegression(solver=\"lbfgs\",max_iter=300)\n",
    "# model.fit(X_train, y_train)\n",
    "# y_predict = model.predict(X_test)\n",
    "# print('Accuracy test:', model.score(X_test, y_test))\n",
    "# print(\"Precision:\", precision_score(y_test, y_predict))"
   ]
  },
  {
   "cell_type": "code",
   "execution_count": 55,
   "metadata": {},
   "outputs": [
    {
     "name": "stdout",
     "output_type": "stream",
     "text": [
      "Accuracy Score: 0.8500766871165644\n",
      "Out of Bag Score: 0.920929241261722\n",
      "Precision: 0.1623931623931624\n"
     ]
    }
   ],
   "source": [
    "X =market_dummies.iloc[:,:20].join(state_dummies.iloc[:,:50]).join(clean_feat_df['time_to_funding']).join(funding_type_df).values\n",
    "y=clean_feat_df['status'].values\n",
    "\n",
    "X_train, X_test, y_train, y_test = train_test_split(X, y)\n",
    "\n",
    "oversample = SMOTE()\n",
    "X_train, y_train = oversample.fit_resample(X_train, y_train)\n",
    "\n",
    "rf = RandomForestClassifier(oob_score=True,max_features=42, n_estimators=100)\n",
    "rf.fit(X_train, y_train)\n",
    "y_predict = rf.predict(X_test)\n",
    "\n",
    "\n",
    "print(\"Accuracy Score:\", rf.score(X_test, y_test))\n",
    "print(\"Out of Bag Score:\", rf.oob_score_)\n",
    "print(\"Precision:\", precision_score(y_test, y_predict))\n"
   ]
  },
  {
   "cell_type": "code",
   "execution_count": 19,
   "metadata": {},
   "outputs": [
    {
     "data": {
      "text/plain": [
       "0.6621324789784596"
      ]
     },
     "execution_count": 19,
     "metadata": {},
     "output_type": "execute_result"
    }
   ],
   "source": [
    "# scores = cross_val_score(model, X_train, y_train, cv = 10, scoring='precision')\n",
    "# scores.mean()"
   ]
  },
  {
   "cell_type": "code",
   "execution_count": 58,
   "metadata": {},
   "outputs": [
    {
     "name": "stdout",
     "output_type": "stream",
     "text": [
      "1.  venture feature Weight: 0.2\n",
      "2.  time_to_funding feature Weight: 0.19\n",
      "3.  CA feature Weight: 0.19\n",
      "4.  seed feature Weight: 0.05\n",
      "5.  debt_financing feature Weight: 0.04\n",
      "6.  MA feature Weight: 0.03\n",
      "7.  Software feature Weight: 0.03\n",
      "8.  Biotechnology feature Weight: 0.03\n",
      "9.  NY feature Weight: 0.03\n",
      "10.  EnterpriseSoftware feature Weight: 0.02\n"
     ]
    },
    {
     "data": {
      "image/png": "[encoded data removed]",
      "text/plain": [
       "<Figure size 1008x504 with 1 Axes>"
      ]
     },
     "metadata": {
      "needs_background": "light"
     },
     "output_type": "display_data"
    }
   ],
   "source": [
    "X =market_dummies.iloc[:,:20].join(state_dummies.iloc[:,:50]).join(clean_feat_df['time_to_funding']).join(funding_type_df)\n",
    "importances = rf.feature_importances_\n",
    "std = np.std([tree.feature_importances_ for tree in rf.estimators_],\n",
    "             axis=0)\n",
    "indices = np.argsort(importances)[::-1]\n",
    "for f in range(10):\n",
    "    print(f'{f+1}.  {X.columns[indices[f]]} feature Weight: {round(importances[indices[f]],2)}')\n",
    "\n",
    "    \n",
    "    \n",
    "fig,ax = plt.subplots(figsize=(14,7))\n",
    "ax.bar(range(0,10),importances[indices[:10]],color=\"r\", yerr=std[indices[:10]], align=\"center\")\n",
    "plt.xticks(range(0,10), ['Venture', 'Time to Funding','CA','Seed','Debt Financing', 'MA', 'Software','Biotechnology','NY','Enterprise Software'],rotation=30,ha='right')\n",
    "ax.set_xlabel('Features')\n",
    "ax.set_ylabel('Feature Weights')\n",
    "ax.set_title('Feature Importances',fontweight='bold')\n",
    "plt.tight_layout()\n",
    "plt.savefig('../images/feature_importances.png')"
   ]
  },
  {
   "cell_type": "code",
   "execution_count": 30,
   "metadata": {},
   "outputs": [
    {
     "data": {
      "text/plain": [
       "0.6621324789784596"
      ]
     },
     "execution_count": 30,
     "metadata": {},
     "output_type": "execute_result"
    }
   ],
   "source": [
    "scores.mean()"
   ]
  },
  {
   "cell_type": "code",
   "execution_count": null,
   "metadata": {},
   "outputs": [],
   "source": [
    "len(indices)"
   ]
  },
  {
   "cell_type": "code",
   "execution_count": null,
   "metadata": {},
   "outputs": [],
   "source": [
    "# class DataFrame(object):\n",
    "\n",
    "#     def __init__(self,file_path):\n",
    "#         \"\"\"Create df object\n",
    "#         Parameters\n",
    "#         ----------\n",
    "#         file_path: takes in a file path to raw data\n",
    "#         \"\"\"\n",
    "#         self.file_path = file_path\n",
    "        \n",
    "#     def clean(self):\n",
    "#         '''\n",
    "#         Parameters\n",
    "#             self: self\n",
    "#         Returns\n",
    "#             a cleaned df\n",
    "#         '''\n",
    "#         df = pd.read_csv(self.file_path,encoding='latin1')\n",
    "#         df.dropna(inplace=True)\n",
    "#         df.drop(['permalink','region','founded_month','founded_quarter'],axis=1,inplace=True)\n",
    "#         df['founded_at'] = pd.to_datetime(df['founded_at'],errors='coerce')\n",
    "#         df['first_funding_at']= pd.to_datetime(df['first_funding_at'],errors='coerce')\n",
    "#         df['last_funding_at']= pd.to_datetime(df['first_funding_at'],errors='coerce')\n",
    "#         df['founded_year'] = df['founded_year'].astype('int64')\n",
    "#         df.drop(df[df['country_code']=='CAN'].index,inplace=True)\n",
    "#         df['funding_total_usd'] = df[' funding_total_usd '].apply(lambda x: x.replace(' ',''))\\\n",
    "#             .apply(lambda x: x.replace(',',''))\n",
    "#         df['funding_total_usd'] = df['funding_total_usd'].apply(lambda x: x.replace('-','0'))\n",
    "#         df['funding_total_usd'] = df['funding_total_usd'].astype('int64')\n",
    "#         df['market'] = df[' market '].apply(lambda x: x.replace(' ',''))\n",
    "#         df.drop(' market ',axis=1,inplace=True)\n",
    "#         df.drop(' funding_total_usd ',axis=1,inplace=True)\n",
    "#         df.drop('country_code',axis=1,inplace=True)\n",
    "#         df.drop('homepage_url',axis=1,inplace=True)\n",
    "#         df.drop('name',axis=1,inplace=True)\n",
    "#         return df\n",
    "        "
   ]
  },
  {
   "cell_type": "code",
   "execution_count": null,
   "metadata": {},
   "outputs": [],
   "source": [
    "df = DataFrame('../../../Downloads/investments_VC.csv').clean()"
   ]
  },
  {
   "cell_type": "code",
   "execution_count": null,
   "metadata": {},
   "outputs": [],
   "source": [
    "accuracy_score(np.array([[0, 1], [1, 1]]), np.ones((2, 2))"
   ]
  },
  {
   "cell_type": "code",
   "execution_count": null,
   "metadata": {},
   "outputs": [],
   "source": [
    "x = np.array([[0, 1], [1, 1],[0, 1], [0, 1]])"
   ]
  },
  {
   "cell_type": "code",
   "execution_count": null,
   "metadata": {},
   "outputs": [],
   "source": [
    "x2 = np.ones((4, 2))"
   ]
  },
  {
   "cell_type": "code",
   "execution_count": null,
   "metadata": {},
   "outputs": [],
   "source": [
    "accuracy_score(x,x2)"
   ]
  },
  {
   "cell_type": "code",
   "execution_count": null,
   "metadata": {},
   "outputs": [],
   "source": [
    "funding_type_df"
   ]
  },
  {
   "cell_type": "code",
   "execution_count": null,
   "metadata": {},
   "outputs": [],
   "source": []
  },
  {
   "cell_type": "code",
   "execution_count": null,
   "metadata": {},
   "outputs": [],
   "source": []
  },
  {
   "cell_type": "code",
   "execution_count": null,
   "metadata": {},
   "outputs": [],
   "source": []
  },
  {
   "cell_type": "code",
   "execution_count": null,
   "metadata": {},
   "outputs": [],
   "source": []
  },
  {
   "cell_type": "code",
   "execution_count": null,
   "metadata": {},
   "outputs": [],
   "source": [
    "X =market_dummies.iloc[:,:20].join(clean_feat_df['time_to_funding']).values\n",
    "y=clean_feat_df['status'].values\n",
    "\n",
    "oversample = SMOTE()\n",
    "X, y = oversample.fit_resample(X, y)\n",
    "\n",
    "X_train, X_test, y_train, y_test = train_test_split(X, y)\n",
    "\n",
    "regr = AdaBoostRegressor(n_estimators=100)\n",
    "regr.fit(X_train,y_train)\n",
    "y_predict = regr.predict(X_test)"
   ]
  },
  {
   "cell_type": "code",
   "execution_count": null,
   "metadata": {},
   "outputs": [],
   "source": [
    "state_dummies = pd.get_dummies(clean_feat_df['state_code'])"
   ]
  },
  {
   "cell_type": "code",
   "execution_count": null,
   "metadata": {},
   "outputs": [],
   "source": [
    "state_dummies.iloc[:,:50]"
   ]
  },
  {
   "cell_type": "code",
   "execution_count": null,
   "metadata": {},
   "outputs": [],
   "source": [
    "x = np.arange(25, 51, 1).tolist()"
   ]
  },
  {
   "cell_type": "code",
   "execution_count": null,
   "metadata": {},
   "outputs": [],
   "source": [
    "x"
   ]
  },
  {
   "cell_type": "code",
   "execution_count": null,
   "metadata": {},
   "outputs": [],
   "source": []
  },
  {
   "cell_type": "code",
   "execution_count": null,
   "metadata": {},
   "outputs": [],
   "source": []
  },
  {
   "cell_type": "code",
   "execution_count": null,
   "metadata": {},
   "outputs": [],
   "source": [
    "\n",
    "\n",
    "\n",
    "\n",
    "# x = df['time_to_funding'].values\n",
    "# min_max_scaler = preprocessing.MinMaxScaler()\n",
    "# x_scaled = min_max_scaler.fit_transform(x)\n",
    "# df = pd.DataFrame(x_scaled)"
   ]
  },
  {
   "cell_type": "code",
   "execution_count": null,
   "metadata": {},
   "outputs": [],
   "source": [
    "y.sum()"
   ]
  },
  {
   "cell_type": "code",
   "execution_count": null,
   "metadata": {},
   "outputs": [],
   "source": []
  },
  {
   "cell_type": "code",
   "execution_count": null,
   "metadata": {},
   "outputs": [],
   "source": []
  },
  {
   "cell_type": "code",
   "execution_count": null,
   "metadata": {},
   "outputs": [],
   "source": []
  },
  {
   "cell_type": "code",
   "execution_count": null,
   "metadata": {},
   "outputs": [],
   "source": []
  },
  {
   "cell_type": "code",
   "execution_count": null,
   "metadata": {},
   "outputs": [],
   "source": []
  },
  {
   "cell_type": "code",
   "execution_count": null,
   "metadata": {},
   "outputs": [],
   "source": []
  },
  {
   "cell_type": "code",
   "execution_count": null,
   "metadata": {},
   "outputs": [],
   "source": [
    "from collections import Counter\n",
    "from sklearn.datasets import make_classification\n",
    "from imblearn.over_sampling import SMOTE\n",
    "from matplotlib import pyplot\n",
    "from numpy import where\n",
    "\n",
    "# summarize class distribution\n",
    "counter = Counter(y)\n",
    "print(counter)\n",
    "# transform the dataset\n",
    "oversample = SMOTE()\n",
    "X, y = oversample.fit_resample(X, y)\n",
    "# # summarize the new class distribution\n",
    "# counter = Counter(y)\n",
    "# print(counter)\n",
    "# # scatter plot of"
   ]
  },
  {
   "cell_type": "code",
   "execution_count": null,
   "metadata": {},
   "outputs": [],
   "source": [
    "X.sum()"
   ]
  },
  {
   "cell_type": "code",
   "execution_count": null,
   "metadata": {},
   "outputs": [],
   "source": [
    "y.sum()"
   ]
  },
  {
   "cell_type": "code",
   "execution_count": null,
   "metadata": {},
   "outputs": [],
   "source": [
    "# markets_df = clean_feat_df['market'].value_counts().reset_index(name='counts')\n",
    "# markets_df = markets_df.iloc[1:11,:]\n",
    "# labels=markets_df['index']\n",
    "\n",
    "# fig, ax = plt.subplots(figsize=(14,7))\n",
    "# ax.pie(markets_df['counts'], labels=labels, autopct='%1.1f%%',\n",
    "#         shadow=False, startangle=70)\n",
    "# ax.axis('equal') \n",
    "# # ax.set_title('Market Splits')\n",
    "# # plt.savefig('../images/market_split.png',dpi=500)\n",
    "\n",
    "\n",
    "# # pie_df= clean_feat_df['status'].value_counts()\\\n",
    "# #         .rename_axis('status').reset_index(name='counts')\n",
    "# #     pie_df['pct'] = pie_df['counts']/len(clean_feat_df)\n",
    "# #     labels=pie_df['status']\n",
    "# #     fig, ax = plt.subplots(figsize=(14,7))\n",
    "# #     ax.pie(pie_df['pct'], explode=[0,0,.15], labels=labels, autopct='%1.1f%%',\n",
    "# #             shadow=True, startangle=50)\n",
    "# #     ax.axis('equal') \n",
    "# #     ax.set_title('Status')\n",
    "# #     plt.savefig('../images/all_markets_pie.png',dpi=500)\n",
    "# #     plt.close("
   ]
  }
 ],
 "metadata": {
  "kernelspec": {
   "display_name": "Python 3",
   "language": "python",
   "name": "python3"
  },
  "language_info": {
   "codemirror_mode": {
    "name": "ipython",
    "version": 3
   },
   "file_extension": ".py",
   "mimetype": "text/x-python",
   "name": "python",
   "nbconvert_exporter": "python",
   "pygments_lexer": "ipython3",
   "version": "3.7.6"
  }
 },
 "nbformat": 4,
 "nbformat_minor": 4
}
